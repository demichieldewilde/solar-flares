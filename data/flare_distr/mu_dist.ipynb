{
 "cells": [
  {
   "cell_type": "markdown",
   "metadata": {},
   "source": [
    "# Calculation general flare distributions in $\\mu$"
   ]
  },
  {
   "cell_type": "code",
   "execution_count": 1,
   "metadata": {},
   "outputs": [],
   "source": [
    "import numpy as np\n",
    "import scipy.special as sc\n",
    "import \n"
   ]
  },
  {
   "cell_type": "code",
   "execution_count": 2,
   "metadata": {},
   "outputs": [],
   "source": [
    "# general distribution for area \n",
    "def rice_dist(x, sigma, nu):\n",
    "    x = np.abs(x)\n",
    "    return x / sigma**2 * np.exp( - (x**2 + nu **2 ) / (2 * sigma **2)) * sc.iv(0, (x * nu / sigma**2))\n",
    "\n",
    "sigma_fit, nu_fit = (9.02769086, 10.48768514)\n",
    "\n",
    "def rho(alpha):\n",
    "    return rice_dist(alpha, sigma_fit, nu_fit) / 2 / np.pi / np.cos(alpha) / 2\n",
    "            # fit of dist when integrated over phi and absolute value so accounting for that"
   ]
  },
  {
   "cell_type": "markdown",
   "metadata": {},
   "source": [
    "Therefore density is $$\\rho_\\mu(\\mu) = \\frac{2}{\\sin \\theta} \\int_{[0, 2\\pi]}d\\phi \\rho (\\alpha(\\theta, \\phi))\n",
    ".$$\n",
    "where\n",
    "$$\n",
    "\\cos \\alpha = \\sin \\tau \\sin \\theta \\cos \\phi +\\cos \\theta \\cos \\tau  $$"
   ]
  },
  {
   "cell_type": "code",
   "execution_count": null,
   "metadata": {},
   "outputs": [],
   "source": [
    "# general distribution for given tau\n",
    "\n",
    "def get_alpha(tau, theta, phi):\n",
    "    return np.arccos( np.sin( tau ) * np.sin(theta) * np.cos(phi) + np.cos(tau) * np.cos(theta))\n",
    "\n",
    "def rho_mu(mu):\n",
    "     \n",
    "    \n"
   ]
  }
 ],
 "metadata": {
  "kernelspec": {
   "display_name": "base",
   "language": "python",
   "name": "python3"
  },
  "language_info": {
   "codemirror_mode": {
    "name": "ipython",
    "version": 3
   },
   "file_extension": ".py",
   "mimetype": "text/x-python",
   "name": "python",
   "nbconvert_exporter": "python",
   "pygments_lexer": "ipython3",
   "version": "3.11.4"
  }
 },
 "nbformat": 4,
 "nbformat_minor": 2
}
