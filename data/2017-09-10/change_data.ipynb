{
 "cells": [
  {
   "cell_type": "code",
   "execution_count": 1,
   "metadata": {},
   "outputs": [],
   "source": [
    "\n",
    "import numpy as np\n",
    "import matplotlib.pyplot as plt\n",
    "import astropy.io.fits as f\n",
    "import glob\n",
    "import ISPy as ip\n",
    "from ISPy.io import lapalma as lp\n",
    "\n",
    "# cube = lp.read('16_31_11/crispex.stokes.8542.16_31_11.time_corrected.fcube' , 21)\n",
    "\n",
    "# comp_arr = f.CompImageHDU(data=cube, compression_type='RICE_1')\n",
    "\n",
    "\n",
    "# hdul_compressed = f.HDUList([f.PrimaryHDU(), comp_arr])\n",
    "# hdul_compressed.writeto('crispex.stokes.8542.16_31_11.time_corrected.fcube_comp.fits', overwrite=True)"
   ]
  },
  {
   "cell_type": "code",
   "execution_count": 2,
   "metadata": {},
   "outputs": [],
   "source": [
    "# cube = lp.read(\"16_23_51/crispex.stokes.8542.16_23_51.time_corrected.fcube\" , 21)\n",
    "\n",
    "# comp_arr = f.CompImageHDU(data=cube, compression_type='RICE_1')\n",
    "\n",
    "\n",
    "# hdul_compressed = f.HDUList([f.PrimaryHDU(), comp_arr])\n",
    "# hdul_compressed.writeto('crispex.stokes.8542.16_23_51.time_corrected.fits', overwrite=True)"
   ]
  },
  {
   "cell_type": "code",
   "execution_count": null,
   "metadata": {},
   "outputs": [],
   "source": []
  }
 ],
 "metadata": {
  "kernelspec": {
   "display_name": "base",
   "language": "python",
   "name": "python3"
  },
  "language_info": {
   "codemirror_mode": {
    "name": "ipython",
    "version": 3
   },
   "file_extension": ".py",
   "mimetype": "text/x-python",
   "name": "python",
   "nbconvert_exporter": "python",
   "pygments_lexer": "ipython3",
   "version": "3.11.4"
  }
 },
 "nbformat": 4,
 "nbformat_minor": 2
}
