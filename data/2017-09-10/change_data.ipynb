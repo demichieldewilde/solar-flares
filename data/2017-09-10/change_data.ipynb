{
 "cells": [
  {
   "cell_type": "code",
   "execution_count": 2,
   "metadata": {},
   "outputs": [],
   "source": [
    "\n",
    "import numpy as np\n",
    "import matplotlib.pyplot as plt\n",
    "import astropy.io.fits as f\n",
    "import glob\n",
    "import ISPy as ip\n",
    "from ISPy.io import lapalma as lp\n",
    "\n",
    "# cube = lp.read('16_31_11/crispex.stokes.8542.16_31_11.time_corrected.fcube' , 21)\n",
    "\n",
    "# comp_arr = f.CompImageHDU(data=cube, compression_type='RICE_1')\n",
    "\n",
    "\n",
    "# hdul_compressed = f.HDUList([f.PrimaryHDU(), comp_arr])\n",
    "# hdul_compressed.writeto('crispex.stokes.8542.16_31_11.time_corrected.fits', overwrite=True)"
   ]
  },
  {
   "cell_type": "code",
   "execution_count": 3,
   "metadata": {},
   "outputs": [],
   "source": [
    "cube = lp.read(\"16_23_51/crispex.stokes.8542.16_23_51.time_corrected.fcube\" , 21)\n",
    "\n",
    "comp_arr = f.CompImageHDU(data=cube, compression_type='RICE_1')\n",
    "\n",
    "\n",
    "hdul_compressed = f.HDUList([f.PrimaryHDU(), comp_arr])\n",
    "hdul_compressed.writeto('crispex.stokes.8542.16_23_51.time_corrected.fits', overwrite=True)"
   ]
  },
  {
   "cell_type": "code",
   "execution_count": null,
   "metadata": {},
   "outputs": [],
   "source": [
    "import os\n",
    "import glob\n",
    "import astropy.io.fits as fits\n",
    "\n",
    "# Get a list of all the FITS files in the current directory\n",
    "fits_files = glob.glob('*.fits')\n",
    "\n",
    "# Create a new FITS file to store the merged data\n",
    "merged_fits = fits.HDUList()\n",
    "\n",
    "# Loop over the FITS files and add their data to the merged file\n",
    "for fits_file in fits_files:\n",
    "    # Open the FITS file\n",
    "    hdulist = fits.open(fits_file)\n",
    "\n",
    "    # Get the data from the primary HDU\n",
    "    data = hdulist[0].data\n",
    "\n",
    "    # Add the data to the merged file\n",
    "    merged_fits.append(fits.ImageHDU(data=data))\n",
    "\n",
    "# Close the merged FITS file\n",
    "merged_fits.close()"
   ]
  }
 ],
 "metadata": {
  "kernelspec": {
   "display_name": "base",
   "language": "python",
   "name": "python3"
  },
  "language_info": {
   "codemirror_mode": {
    "name": "ipython",
    "version": 3
   },
   "file_extension": ".py",
   "mimetype": "text/x-python",
   "name": "python",
   "nbconvert_exporter": "python",
   "pygments_lexer": "ipython3",
   "version": "3.11.4"
  }
 },
 "nbformat": 4,
 "nbformat_minor": 2
}
