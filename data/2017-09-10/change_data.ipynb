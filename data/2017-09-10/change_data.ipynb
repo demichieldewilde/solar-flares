{
 "cells": [
  {
   "cell_type": "code",
   "execution_count": 2,
   "metadata": {},
   "outputs": [],
   "source": [
    "\n",
    "import numpy as np\n",
    "import matplotlib.pyplot as plt\n",
    "import astropy.io.fits as f\n",
    "import glob\n",
    "import ISPy as ip\n",
    "from ISPy.io import lapalma as lp\n",
    "\n",
    "# cube = lp.read('16_31_11/crispex.stokes.8542.16_31_11.time_corrected.fcube' , 21)\n",
    "\n",
    "# comp_arr = f.CompImageHDU(data=cube, compression_type='RICE_1')\n",
    "\n",
    "\n",
    "# hdul_compressed = f.HDUList([f.PrimaryHDU(), comp_arr])\n",
    "# hdul_compressed.writeto('crispex.stokes.8542.16_31_11.time_corrected.fits', overwrite=True)"
   ]
  },
  {
   "cell_type": "code",
   "execution_count": 6,
   "metadata": {},
   "outputs": [],
   "source": [
    "cube = lp.read(\"fits/16_23_51/crispex.stokes.8542.16_23_51.time_corrected.fcube\" , 21)\n"
   ]
  },
  {
   "cell_type": "code",
   "execution_count": 8,
   "metadata": {},
   "outputs": [
    {
     "data": {
      "text/plain": [
       "((9, 4, 21, 925, 932),\n",
       " memmap([[4.65797119e+01, 1.23676559e+02, 1.29233170e+02, 1.39173477e+02,\n",
       "          1.48589462e+02, 2.43923988e+01, 2.43923988e+01, 2.43923988e+01,\n",
       "          2.43923988e+01, 2.43923988e+01],\n",
       "         [1.22611610e+02, 2.02129288e+01, 1.02901825e+02, 1.34593704e+02,\n",
       "          1.31312714e+02, 1.35057037e+02, 1.36691055e+02, 1.40752274e+02,\n",
       "          1.37674286e+02, 1.35845886e+02],\n",
       "         [6.94789734e+01, 4.88494778e+00, 9.19879818e+00, 9.17110825e+01,\n",
       "          1.23484528e+02, 1.33417679e+02, 1.35060013e+02, 1.32711151e+02,\n",
       "          1.39730179e+02, 1.37815948e+02],\n",
       "         [9.61838531e+00, 2.56294680e+00, 2.79610252e+00, 3.15801311e+00,\n",
       "          3.01099014e+01, 1.23950684e+02, 1.20656776e+02, 1.36380936e+02,\n",
       "          1.38838440e+02, 1.35087677e+02],\n",
       "         [3.25716734e+00, 7.81258917e+00, 4.36356115e+00, 4.90888071e+00,\n",
       "          3.46940899e+00, 3.50603905e+01, 1.04336716e+02, 1.32827103e+02,\n",
       "          1.33045242e+02, 1.32533859e+02],\n",
       "         [4.00866127e+00, 8.42381668e+01, 9.93973389e+01, 1.29731430e+02,\n",
       "          1.46567047e+02, 5.43413925e+01, 1.49481049e+01, 3.90029221e+01,\n",
       "          1.31864426e+02, 1.26026344e+02],\n",
       "         [8.74448490e+00, 1.18336784e+02, 2.26648438e+02, 1.94338150e+02,\n",
       "          1.04927711e+01, 9.80990791e+00, 1.94266357e+01, 2.09007859e+00,\n",
       "          2.31606884e+01, 8.16599350e+01],\n",
       "         [9.26752150e-01, 7.69618607e+00, 2.04016285e+01, 1.88320179e+01,\n",
       "          2.08656483e+01, 9.21438408e+00, 8.58733773e-01, 5.83512783e-01,\n",
       "          8.34867358e-01, 1.55818081e+00],\n",
       "         [3.56322348e-01, 7.30279565e-01, 1.11801827e+00, 1.03474963e+00,\n",
       "          7.66746044e-01, 4.98585194e-01, 3.84609491e-01, 5.43462574e-01,\n",
       "          4.18286085e-01, 4.28003669e-01],\n",
       "         [2.38661006e-01, 3.57792944e-01, 2.78810114e-01, 2.23423138e-01,\n",
       "          4.05415922e-01, 5.85365236e-01, 4.70744669e-01, 5.52372813e-01,\n",
       "          4.91920382e-01, 4.78986979e-01]], dtype=float32))"
      ]
     },
     "execution_count": 8,
     "metadata": {},
     "output_type": "execute_result"
    }
   ],
   "source": [
    "cube.shape, cube[0,0,2,::100,::100]"
   ]
  },
  {
   "cell_type": "code",
   "execution_count": null,
   "metadata": {},
   "outputs": [],
   "source": []
  },
  {
   "cell_type": "code",
   "execution_count": null,
   "metadata": {},
   "outputs": [],
   "source": [
    "import os\n",
    "import glob\n",
    "import astropy.io.fits as fits\n",
    "\n",
    "# Get a list of all the FITS files in the current directory\n",
    "fits_files = glob.glob('*.fits')\n",
    "\n",
    "# Create a new FITS file to store the merged data\n",
    "merged_fits = fits.HDUList()\n",
    "\n",
    "# Loop over the FITS files and add their data to the merged file\n",
    "for fits_file in fits_files:\n",
    "    # Open the FITS file\n",
    "    hdulist = fits.open(fits_file)\n",
    "\n",
    "    # Get the data from the primary HDU\n",
    "    data = hdulist[0].data\n",
    "\n",
    "    # Add the data to the merged file\n",
    "    merged_fits.append(fits.ImageHDU(data=data))\n",
    "\n",
    "# Close the merged FITS file\n",
    "merged_fits.close()"
   ]
  }
 ],
 "metadata": {
  "kernelspec": {
   "display_name": "base",
   "language": "python",
   "name": "python3"
  },
  "language_info": {
   "codemirror_mode": {
    "name": "ipython",
    "version": 3
   },
   "file_extension": ".py",
   "mimetype": "text/x-python",
   "name": "python",
   "nbconvert_exporter": "python",
   "pygments_lexer": "ipython3",
   "version": "3.11.4"
  }
 },
 "nbformat": 4,
 "nbformat_minor": 2
}
